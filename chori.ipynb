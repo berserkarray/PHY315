{
 "cells": [
  {
   "cell_type": "code",
   "execution_count": 100,
   "metadata": {},
   "outputs": [],
   "source": [
    "#create a function\n",
    "#draw samples from it\n",
    "#add noise to it to make it look real"
   ]
  },
  {
   "cell_type": "code",
   "execution_count": 101,
   "metadata": {},
   "outputs": [],
   "source": [
    "#problem 1 - too many unknown variables\n",
    "#solution - use last years data to map, once you have your equation - sample"
   ]
  },
  {
   "cell_type": "code",
   "execution_count": 102,
   "metadata": {},
   "outputs": [],
   "source": [
    "import pandas as pd\n",
    "df = pd.read_csv(\"data.csv\")"
   ]
  },
  {
   "cell_type": "code",
   "execution_count": 103,
   "metadata": {},
   "outputs": [
    {
     "data": {
      "text/html": [
       "<div>\n",
       "<style scoped>\n",
       "    .dataframe tbody tr th:only-of-type {\n",
       "        vertical-align: middle;\n",
       "    }\n",
       "\n",
       "    .dataframe tbody tr th {\n",
       "        vertical-align: top;\n",
       "    }\n",
       "\n",
       "    .dataframe thead th {\n",
       "        text-align: right;\n",
       "    }\n",
       "</style>\n",
       "<table border=\"1\" class=\"dataframe\">\n",
       "  <thead>\n",
       "    <tr style=\"text-align: right;\">\n",
       "      <th></th>\n",
       "      <th>Voltage (V)</th>\n",
       "      <th>Current(mA)</th>\n",
       "    </tr>\n",
       "  </thead>\n",
       "  <tbody>\n",
       "    <tr>\n",
       "      <th>0</th>\n",
       "      <td>2.841</td>\n",
       "      <td>0.000</td>\n",
       "    </tr>\n",
       "    <tr>\n",
       "      <th>1</th>\n",
       "      <td>2.720</td>\n",
       "      <td>-2.315</td>\n",
       "    </tr>\n",
       "    <tr>\n",
       "      <th>2</th>\n",
       "      <td>2.699</td>\n",
       "      <td>-2.580</td>\n",
       "    </tr>\n",
       "    <tr>\n",
       "      <th>3</th>\n",
       "      <td>2.690</td>\n",
       "      <td>-2.765</td>\n",
       "    </tr>\n",
       "    <tr>\n",
       "      <th>4</th>\n",
       "      <td>2.646</td>\n",
       "      <td>-2.984</td>\n",
       "    </tr>\n",
       "    <tr>\n",
       "      <th>5</th>\n",
       "      <td>2.615</td>\n",
       "      <td>-3.145</td>\n",
       "    </tr>\n",
       "    <tr>\n",
       "      <th>6</th>\n",
       "      <td>2.580</td>\n",
       "      <td>-3.553</td>\n",
       "    </tr>\n",
       "    <tr>\n",
       "      <th>7</th>\n",
       "      <td>2.481</td>\n",
       "      <td>-3.829</td>\n",
       "    </tr>\n",
       "    <tr>\n",
       "      <th>8</th>\n",
       "      <td>2.442</td>\n",
       "      <td>-4.002</td>\n",
       "    </tr>\n",
       "    <tr>\n",
       "      <th>9</th>\n",
       "      <td>2.388</td>\n",
       "      <td>-4.138</td>\n",
       "    </tr>\n",
       "    <tr>\n",
       "      <th>10</th>\n",
       "      <td>2.320</td>\n",
       "      <td>-4.397</td>\n",
       "    </tr>\n",
       "    <tr>\n",
       "      <th>11</th>\n",
       "      <td>2.223</td>\n",
       "      <td>-4.659</td>\n",
       "    </tr>\n",
       "    <tr>\n",
       "      <th>12</th>\n",
       "      <td>2.154</td>\n",
       "      <td>-4.912</td>\n",
       "    </tr>\n",
       "    <tr>\n",
       "      <th>13</th>\n",
       "      <td>2.114</td>\n",
       "      <td>-5.014</td>\n",
       "    </tr>\n",
       "    <tr>\n",
       "      <th>14</th>\n",
       "      <td>2.018</td>\n",
       "      <td>-5.264</td>\n",
       "    </tr>\n",
       "    <tr>\n",
       "      <th>15</th>\n",
       "      <td>1.924</td>\n",
       "      <td>-5.590</td>\n",
       "    </tr>\n",
       "    <tr>\n",
       "      <th>16</th>\n",
       "      <td>1.863</td>\n",
       "      <td>-5.866</td>\n",
       "    </tr>\n",
       "    <tr>\n",
       "      <th>17</th>\n",
       "      <td>1.814</td>\n",
       "      <td>-6.052</td>\n",
       "    </tr>\n",
       "    <tr>\n",
       "      <th>18</th>\n",
       "      <td>1.668</td>\n",
       "      <td>-6.319</td>\n",
       "    </tr>\n",
       "    <tr>\n",
       "      <th>19</th>\n",
       "      <td>1.514</td>\n",
       "      <td>-6.633</td>\n",
       "    </tr>\n",
       "    <tr>\n",
       "      <th>20</th>\n",
       "      <td>1.338</td>\n",
       "      <td>-6.774</td>\n",
       "    </tr>\n",
       "    <tr>\n",
       "      <th>21</th>\n",
       "      <td>0.433</td>\n",
       "      <td>-6.847</td>\n",
       "    </tr>\n",
       "    <tr>\n",
       "      <th>22</th>\n",
       "      <td>0.123</td>\n",
       "      <td>-6.977</td>\n",
       "    </tr>\n",
       "    <tr>\n",
       "      <th>23</th>\n",
       "      <td>0.000</td>\n",
       "      <td>-6.985</td>\n",
       "    </tr>\n",
       "  </tbody>\n",
       "</table>\n",
       "</div>"
      ],
      "text/plain": [
       "    Voltage (V)  Current(mA)\n",
       "0         2.841        0.000\n",
       "1         2.720       -2.315\n",
       "2         2.699       -2.580\n",
       "3         2.690       -2.765\n",
       "4         2.646       -2.984\n",
       "5         2.615       -3.145\n",
       "6         2.580       -3.553\n",
       "7         2.481       -3.829\n",
       "8         2.442       -4.002\n",
       "9         2.388       -4.138\n",
       "10        2.320       -4.397\n",
       "11        2.223       -4.659\n",
       "12        2.154       -4.912\n",
       "13        2.114       -5.014\n",
       "14        2.018       -5.264\n",
       "15        1.924       -5.590\n",
       "16        1.863       -5.866\n",
       "17        1.814       -6.052\n",
       "18        1.668       -6.319\n",
       "19        1.514       -6.633\n",
       "20        1.338       -6.774\n",
       "21        0.433       -6.847\n",
       "22        0.123       -6.977\n",
       "23        0.000       -6.985"
      ]
     },
     "execution_count": 103,
     "metadata": {},
     "output_type": "execute_result"
    }
   ],
   "source": [
    "df"
   ]
  },
  {
   "cell_type": "code",
   "execution_count": 104,
   "metadata": {},
   "outputs": [],
   "source": [
    "import matplotlib.pyplot as plt"
   ]
  },
  {
   "cell_type": "code",
   "execution_count": 105,
   "metadata": {},
   "outputs": [
    {
     "data": {
      "text/plain": [
       "[<matplotlib.lines.Line2D at 0x26bdc9aa820>]"
      ]
     },
     "execution_count": 105,
     "metadata": {},
     "output_type": "execute_result"
    },
    {
     "data": {
      "image/png": "[encoded data removed]",
      "text/plain": [
       "<Figure size 432x288 with 1 Axes>"
      ]
     },
     "metadata": {
      "needs_background": "light"
     },
     "output_type": "display_data"
    }
   ],
   "source": [
    "plt.plot(df[\"Voltage (V)\"],df[\"Current(mA)\"])"
   ]
  },
  {
   "cell_type": "code",
   "execution_count": 106,
   "metadata": {},
   "outputs": [],
   "source": [
    "from lmfit.models import LorentzianModel\n",
    "model = LorentzianModel()\n",
    "#Levenberg-Marquard technique ---for future refrence"
   ]
  },
  {
   "cell_type": "code",
   "execution_count": 107,
   "metadata": {},
   "outputs": [
    {
     "name": "stdout",
     "output_type": "stream",
     "text": [
      "[[Model]]\n",
      "    Model(lorentzian)\n",
      "[[Fit Statistics]]\n",
      "    # fitting method   = leastsq\n",
      "    # function evals   = 59\n",
      "    # data points      = 24\n",
      "    # variables        = 3\n",
      "    chi-square         = 12.1334178\n",
      "    reduced chi-square = 0.57778180\n",
      "    Akaike info crit   = -10.3701692\n",
      "    Bayesian info crit = -6.83600769\n",
      "[[Variables]]\n",
      "    amplitude: -37.4471586 +/- 2.54262304 (6.79%) (init = 2.959894)\n",
      "    center:     0.83125475 +/- 0.08052512 (9.69%) (init = 2.701833)\n",
      "    sigma:      1.43254118 +/- 0.15781645 (11.02%) (init = 0.113)\n",
      "    fwhm:       2.86508236 +/- 0.31563291 (11.02%) == '2.0000000*sigma'\n",
      "    height:    -8.32073901 +/- 0.55730703 (6.70%) == '0.3183099*amplitude/max(1e-15, sigma)'\n",
      "[[Correlations]] (unreported correlations are < 0.100)\n",
      "    C(amplitude, sigma)  = -0.820\n",
      "    C(amplitude, center) = 0.761\n",
      "    C(center, sigma)     = -0.601\n"
     ]
    }
   ],
   "source": [
    "params = model.guess(df[\"Current(mA)\"], x=df['Voltage (V)'])\n",
    "result = model.fit(df[\"Current(mA)\"], params, x=df['Voltage (V)'])\n",
    "print(result.fit_report())"
   ]
  },
  {
   "cell_type": "code",
   "execution_count": 108,
   "metadata": {},
   "outputs": [
    {
     "data": {
      "text/plain": [
       "<AxesSubplot:title={'center':'Model(lorentzian)'}, xlabel='x', ylabel='y'>"
      ]
     },
     "execution_count": 108,
     "metadata": {},
     "output_type": "execute_result"
    },
    {
     "data": {
      "image/png": "[encoded data removed]",
      "text/plain": [
       "<Figure size 432x288 with 1 Axes>"
      ]
     },
     "metadata": {
      "needs_background": "light"
     },
     "output_type": "display_data"
    }
   ],
   "source": [
    "result.plot_fit()"
   ]
  },
  {
   "cell_type": "code",
   "execution_count": 109,
   "metadata": {},
   "outputs": [
    {
     "name": "stdout",
     "output_type": "stream",
     "text": [
      "[[1.7059208 ]\n",
      " [2.11493348]\n",
      " [1.51344364]\n",
      " [1.05997979]\n",
      " [0.32076317]\n",
      " [1.48748838]\n",
      " [2.09822753]\n",
      " [1.24137728]\n",
      " [0.01579067]\n",
      " [2.54185367]\n",
      " [2.00291198]\n",
      " [0.90831812]\n",
      " [2.06907546]\n",
      " [1.12567545]\n",
      " [0.10263554]\n",
      " [0.62351403]\n",
      " [1.5361001 ]\n",
      " [2.04352953]]\n"
     ]
    }
   ],
   "source": [
    "import numpy as np\n",
    "randomlist = np.random.uniform(0, 2.841,[18,1])\n",
    "print(randomlist)"
   ]
  },
  {
   "cell_type": "code",
   "execution_count": 110,
   "metadata": {},
   "outputs": [
    {
     "name": "stdout",
     "output_type": "stream",
     "text": [
      "[1.7059208  2.11493348 1.51344364 1.05997979 0.32076317 1.48748838\n",
      " 2.09822753 1.24137728 0.01579067 2.54185367 2.00291198 0.90831812\n",
      " 2.06907546 1.12567545 0.10263554 0.62351403 1.5361001  2.04352953\n",
      " 0.         2.841     ]\n"
     ]
    }
   ],
   "source": [
    "import numpy\n",
    "randomlist = numpy.append(randomlist,0.0)\n",
    "randomlist = numpy.append(randomlist,2.841)\n",
    "\n",
    "print(randomlist)"
   ]
  },
  {
   "cell_type": "code",
   "execution_count": 111,
   "metadata": {},
   "outputs": [],
   "source": [
    "a = result.eval(x=randomlist)"
   ]
  },
  {
   "cell_type": "code",
   "execution_count": 112,
   "metadata": {},
   "outputs": [
    {
     "data": {
      "text/plain": [
       "dtype('float64')"
      ]
     },
     "execution_count": 112,
     "metadata": {},
     "output_type": "execute_result"
    }
   ],
   "source": [
    "a.dtype"
   ]
  },
  {
   "cell_type": "code",
   "execution_count": 113,
   "metadata": {},
   "outputs": [
    {
     "data": {
      "text/plain": [
       "array([-6.06116532, -4.61502188, -6.78261218, -8.11389481, -7.38316479,\n",
       "       -6.87751321, -4.66878993, -7.69041607, -6.28436723, -3.42999156,\n",
       "       -4.98564389, -8.29672884, -4.76390126, -7.98351605, -6.61061078,\n",
       "       -8.14936163, -6.69899231, -4.8485664 , -6.22479682, -2.80330062])"
      ]
     },
     "execution_count": 113,
     "metadata": {},
     "output_type": "execute_result"
    }
   ],
   "source": [
    "a"
   ]
  },
  {
   "cell_type": "code",
   "execution_count": 114,
   "metadata": {},
   "outputs": [
    {
     "data": {
      "text/plain": [
       "<matplotlib.collections.PathCollection at 0x26bdca8bf70>"
      ]
     },
     "execution_count": 114,
     "metadata": {},
     "output_type": "execute_result"
    },
    {
     "data": {
      "image/png": "[encoded data removed]",
      "text/plain": [
       "<Figure size 432x288 with 1 Axes>"
      ]
     },
     "metadata": {
      "needs_background": "light"
     },
     "output_type": "display_data"
    }
   ],
   "source": [
    "plt.scatter(randomlist,a)"
   ]
  },
  {
   "cell_type": "code",
   "execution_count": 115,
   "metadata": {},
   "outputs": [],
   "source": [
    "y = randomlist*a"
   ]
  },
  {
   "cell_type": "code",
   "execution_count": 116,
   "metadata": {},
   "outputs": [
    {
     "data": {
      "text/plain": [
       "array([-10.339868  ,  -9.76046427, -10.2651013 ,  -8.60056455,\n",
       "        -2.36824734, -10.23022101,  -9.79618355,  -9.54670779,\n",
       "        -0.09923436,  -8.71853662,  -9.98580587,  -7.53606916,\n",
       "        -9.8568712 ,  -8.98684806,  -0.67848361,  -5.08124133,\n",
       "       -10.29032275,  -9.90818865,  -0.        ,  -7.96417706])"
      ]
     },
     "execution_count": 116,
     "metadata": {},
     "output_type": "execute_result"
    }
   ],
   "source": [
    "y"
   ]
  },
  {
   "cell_type": "code",
   "execution_count": 117,
   "metadata": {},
   "outputs": [
    {
     "data": {
      "text/plain": [
       "-10.339867996598654"
      ]
     },
     "execution_count": 117,
     "metadata": {},
     "output_type": "execute_result"
    }
   ],
   "source": [
    "y.min()"
   ]
  },
  {
   "cell_type": "code",
   "execution_count": 118,
   "metadata": {},
   "outputs": [
    {
     "data": {
      "text/plain": [
       "2.841"
      ]
     },
     "execution_count": 118,
     "metadata": {},
     "output_type": "execute_result"
    }
   ],
   "source": [
    "randomlist.max()"
   ]
  },
  {
   "cell_type": "code",
   "execution_count": 119,
   "metadata": {},
   "outputs": [
    {
     "data": {
      "text/plain": [
       "<matplotlib.collections.PathCollection at 0x26bdcafc1c0>"
      ]
     },
     "execution_count": 119,
     "metadata": {},
     "output_type": "execute_result"
    },
    {
     "data": {
      "image/png": "[encoded data removed]",
      "text/plain": [
       "<Figure size 432x288 with 1 Axes>"
      ]
     },
     "metadata": {
      "needs_background": "light"
     },
     "output_type": "display_data"
    }
   ],
   "source": [
    "plt.scatter(randomlist,y)"
   ]
  },
  {
   "cell_type": "code",
   "execution_count": 120,
   "metadata": {},
   "outputs": [],
   "source": [
    "data = {'V':randomlist,\n",
    "        'I':a,\n",
    "        'power':y}"
   ]
  },
  {
   "cell_type": "code",
   "execution_count": 121,
   "metadata": {},
   "outputs": [],
   "source": [
    "df = pd.DataFrame(data)"
   ]
  },
  {
   "cell_type": "code",
   "execution_count": 122,
   "metadata": {},
   "outputs": [
    {
     "data": {
      "text/html": [
       "<div>\n",
       "<style scoped>\n",
       "    .dataframe tbody tr th:only-of-type {\n",
       "        vertical-align: middle;\n",
       "    }\n",
       "\n",
       "    .dataframe tbody tr th {\n",
       "        vertical-align: top;\n",
       "    }\n",
       "\n",
       "    .dataframe thead th {\n",
       "        text-align: right;\n",
       "    }\n",
       "</style>\n",
       "<table border=\"1\" class=\"dataframe\">\n",
       "  <thead>\n",
       "    <tr style=\"text-align: right;\">\n",
       "      <th></th>\n",
       "      <th>V</th>\n",
       "      <th>I</th>\n",
       "      <th>power</th>\n",
       "    </tr>\n",
       "  </thead>\n",
       "  <tbody>\n",
       "    <tr>\n",
       "      <th>0</th>\n",
       "      <td>1.705921</td>\n",
       "      <td>-6.061165</td>\n",
       "      <td>-10.339868</td>\n",
       "    </tr>\n",
       "    <tr>\n",
       "      <th>1</th>\n",
       "      <td>2.114933</td>\n",
       "      <td>-4.615022</td>\n",
       "      <td>-9.760464</td>\n",
       "    </tr>\n",
       "    <tr>\n",
       "      <th>2</th>\n",
       "      <td>1.513444</td>\n",
       "      <td>-6.782612</td>\n",
       "      <td>-10.265101</td>\n",
       "    </tr>\n",
       "    <tr>\n",
       "      <th>3</th>\n",
       "      <td>1.059980</td>\n",
       "      <td>-8.113895</td>\n",
       "      <td>-8.600565</td>\n",
       "    </tr>\n",
       "    <tr>\n",
       "      <th>4</th>\n",
       "      <td>0.320763</td>\n",
       "      <td>-7.383165</td>\n",
       "      <td>-2.368247</td>\n",
       "    </tr>\n",
       "    <tr>\n",
       "      <th>5</th>\n",
       "      <td>1.487488</td>\n",
       "      <td>-6.877513</td>\n",
       "      <td>-10.230221</td>\n",
       "    </tr>\n",
       "    <tr>\n",
       "      <th>6</th>\n",
       "      <td>2.098228</td>\n",
       "      <td>-4.668790</td>\n",
       "      <td>-9.796184</td>\n",
       "    </tr>\n",
       "    <tr>\n",
       "      <th>7</th>\n",
       "      <td>1.241377</td>\n",
       "      <td>-7.690416</td>\n",
       "      <td>-9.546708</td>\n",
       "    </tr>\n",
       "    <tr>\n",
       "      <th>8</th>\n",
       "      <td>0.015791</td>\n",
       "      <td>-6.284367</td>\n",
       "      <td>-0.099234</td>\n",
       "    </tr>\n",
       "    <tr>\n",
       "      <th>9</th>\n",
       "      <td>2.541854</td>\n",
       "      <td>-3.429992</td>\n",
       "      <td>-8.718537</td>\n",
       "    </tr>\n",
       "    <tr>\n",
       "      <th>10</th>\n",
       "      <td>2.002912</td>\n",
       "      <td>-4.985644</td>\n",
       "      <td>-9.985806</td>\n",
       "    </tr>\n",
       "    <tr>\n",
       "      <th>11</th>\n",
       "      <td>0.908318</td>\n",
       "      <td>-8.296729</td>\n",
       "      <td>-7.536069</td>\n",
       "    </tr>\n",
       "    <tr>\n",
       "      <th>12</th>\n",
       "      <td>2.069075</td>\n",
       "      <td>-4.763901</td>\n",
       "      <td>-9.856871</td>\n",
       "    </tr>\n",
       "    <tr>\n",
       "      <th>13</th>\n",
       "      <td>1.125675</td>\n",
       "      <td>-7.983516</td>\n",
       "      <td>-8.986848</td>\n",
       "    </tr>\n",
       "    <tr>\n",
       "      <th>14</th>\n",
       "      <td>0.102636</td>\n",
       "      <td>-6.610611</td>\n",
       "      <td>-0.678484</td>\n",
       "    </tr>\n",
       "    <tr>\n",
       "      <th>15</th>\n",
       "      <td>0.623514</td>\n",
       "      <td>-8.149362</td>\n",
       "      <td>-5.081241</td>\n",
       "    </tr>\n",
       "    <tr>\n",
       "      <th>16</th>\n",
       "      <td>1.536100</td>\n",
       "      <td>-6.698992</td>\n",
       "      <td>-10.290323</td>\n",
       "    </tr>\n",
       "    <tr>\n",
       "      <th>17</th>\n",
       "      <td>2.043530</td>\n",
       "      <td>-4.848566</td>\n",
       "      <td>-9.908189</td>\n",
       "    </tr>\n",
       "    <tr>\n",
       "      <th>18</th>\n",
       "      <td>0.000000</td>\n",
       "      <td>-6.224797</td>\n",
       "      <td>-0.000000</td>\n",
       "    </tr>\n",
       "    <tr>\n",
       "      <th>19</th>\n",
       "      <td>2.841000</td>\n",
       "      <td>-2.803301</td>\n",
       "      <td>-7.964177</td>\n",
       "    </tr>\n",
       "  </tbody>\n",
       "</table>\n",
       "</div>"
      ],
      "text/plain": [
       "           V         I      power\n",
       "0   1.705921 -6.061165 -10.339868\n",
       "1   2.114933 -4.615022  -9.760464\n",
       "2   1.513444 -6.782612 -10.265101\n",
       "3   1.059980 -8.113895  -8.600565\n",
       "4   0.320763 -7.383165  -2.368247\n",
       "5   1.487488 -6.877513 -10.230221\n",
       "6   2.098228 -4.668790  -9.796184\n",
       "7   1.241377 -7.690416  -9.546708\n",
       "8   0.015791 -6.284367  -0.099234\n",
       "9   2.541854 -3.429992  -8.718537\n",
       "10  2.002912 -4.985644  -9.985806\n",
       "11  0.908318 -8.296729  -7.536069\n",
       "12  2.069075 -4.763901  -9.856871\n",
       "13  1.125675 -7.983516  -8.986848\n",
       "14  0.102636 -6.610611  -0.678484\n",
       "15  0.623514 -8.149362  -5.081241\n",
       "16  1.536100 -6.698992 -10.290323\n",
       "17  2.043530 -4.848566  -9.908189\n",
       "18  0.000000 -6.224797  -0.000000\n",
       "19  2.841000 -2.803301  -7.964177"
      ]
     },
     "execution_count": 122,
     "metadata": {},
     "output_type": "execute_result"
    }
   ],
   "source": [
    "df"
   ]
  },
  {
   "cell_type": "code",
   "execution_count": 127,
   "metadata": {},
   "outputs": [],
   "source": [
    "Isc = -6.22479682\n",
    "Voc = 2.841\n",
    "Im = -6.061165\n",
    "Vm = 1.705921"
   ]
  },
  {
   "cell_type": "code",
   "execution_count": 128,
   "metadata": {},
   "outputs": [],
   "source": [
    "ff = (Im*Vm)/(Isc*Voc)"
   ]
  },
  {
   "cell_type": "code",
   "execution_count": 129,
   "metadata": {},
   "outputs": [
    {
     "name": "stdout",
     "output_type": "stream",
     "text": [
      "0.5846804977403235\n"
     ]
    }
   ],
   "source": [
    "print(ff)"
   ]
  },
  {
   "cell_type": "code",
   "execution_count": null,
   "metadata": {},
   "outputs": [],
   "source": []
  }
 ],
 "metadata": {
  "kernelspec": {
   "display_name": "Python 3.9.12 ('bcs_project')",
   "language": "python",
   "name": "python3"
  },
  "language_info": {
   "codemirror_mode": {
    "name": "ipython",
    "version": 3
   },
   "file_extension": ".py",
   "mimetype": "text/x-python",
   "name": "python",
   "nbconvert_exporter": "python",
   "pygments_lexer": "ipython3",
   "version": "3.9.12"
  },
  "orig_nbformat": 4,
  "vscode": {
   "interpreter": {
    "hash": "6c685f40f4e372158c8452f24cd9ee0bbc1030a9f2f196d3595227ed632ab81f"
   }
  }
 },
 "nbformat": 4,
 "nbformat_minor": 2
}
